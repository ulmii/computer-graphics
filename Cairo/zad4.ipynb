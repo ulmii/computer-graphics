{
 "cells": [
  {
   "cell_type": "code",
   "execution_count": 7,
   "id": "db19fe54",
   "metadata": {},
   "outputs": [],
   "source": [
    "%matplotlib inline\n",
    "import cv2\n",
    "import matplotlib.pyplot as plt\n",
    "import numpy as np\n",
    "\n",
    "import gi\n",
    "gi.require_version(\"Gtk\", \"3.0\")\n",
    "gi.require_version(\"Gdk\", \"3.0\")\n",
    "from gi.repository import Gdk, Gtk\n",
    "gi.require_foreign(\"cairo\")\n",
    "\n",
    "plt.rcParams[\"figure.figsize\"] = (20, 10)"
   ]
  },
  {
   "cell_type": "markdown",
   "id": "b9003350",
   "metadata": {},
   "source": [
    "Przerób przykład z rysowaniem myszką odcinka tak, aby obsługiwał wiele odcinków (tzn. trzecie kliknięcie myszki powinno wyznaczać początkowy punkt nowego odcinka, a nie wymazywać stary). Potrzebna będzie jakaś struktura danych potrafiąca przechowywać wiele liczb — najprościej będzie użyć listy (patrz dokumentacja Pythona)."
   ]
  },
  {
   "cell_type": "code",
   "execution_count": 8,
   "id": "078e54b2",
   "metadata": {},
   "outputs": [],
   "source": [
    "class Point:\n",
    "    def __init__(self, x, y):\n",
    "        self.x = x\n",
    "        self.y = y\n",
    "\n",
    "class Line:\n",
    "    def __init__(self, p1, p2):\n",
    "        self.p1 = p1\n",
    "        self.p2 = p2\n",
    "        \n",
    "class Okno(Gtk.Window):\n",
    "    def __init__(self):\n",
    "        super(Okno, self).__init__()\n",
    "        \n",
    "        self.lines = [Line(None, None)]\n",
    "\n",
    "        self.set_title(\"Okno GTK\")\n",
    "        self.set_default_size(400, 300)\n",
    "        self.connect(\"destroy\", Gtk.main_quit)\n",
    "        \n",
    "        da = Gtk.DrawingArea()\n",
    "        da.set_size_request(200, 200)\n",
    "        \n",
    "        da.connect(\"draw\", self.on_draw)\n",
    "        da.set_events(Gdk.EventMask.BUTTON_PRESS_MASK)\n",
    "        da.connect(\"button-press-event\", self.on_button_press)\n",
    "        \n",
    "        self.add(da)\n",
    "        self.show_all()\n",
    "\n",
    "    def on_draw(self, widget, ctx):\n",
    "        for line in self.lines:\n",
    "            if line.p1 is not None:\n",
    "                ctx.arc(line.p1.x, line.p1.y, 8, 0.0, 6.283)    # ciut mniej niż 2π\n",
    "                ctx.close_path()\n",
    "                ctx.stroke()\n",
    "\n",
    "            if line.p2 is not None:\n",
    "                ctx.move_to(line.p1.x, line.p1.y)\n",
    "                ctx.line_to(line.p2.x, line.p2.y)\n",
    "                ctx.stroke()\n",
    "\n",
    "    def on_button_press(self, widget, event):\n",
    "        if event.button != 1:\n",
    "            return False\n",
    "        \n",
    "        last_line = self.lines[-1]\n",
    "\n",
    "        if last_line.p1 is None:\n",
    "            last_line.p1 = Point(event.x, event.y)\n",
    "        elif last_line.p2 is None:\n",
    "            last_line.p2 = Point(event.x, event.y)\n",
    "            self.lines.append(Line(None, None))\n",
    "\n",
    "        widget.queue_draw()\n",
    "\n",
    "        return True"
   ]
  },
  {
   "cell_type": "code",
   "execution_count": 9,
   "id": "6eeab478",
   "metadata": {},
   "outputs": [],
   "source": [
    "o = Okno()\n",
    "Gtk.main()"
   ]
  }
 ],
 "metadata": {
  "kernelspec": {
   "display_name": "Python 3",
   "language": "python",
   "name": "python3"
  },
  "language_info": {
   "codemirror_mode": {
    "name": "ipython",
    "version": 3
   },
   "file_extension": ".py",
   "mimetype": "text/x-python",
   "name": "python",
   "nbconvert_exporter": "python",
   "pygments_lexer": "ipython3",
   "version": "3.6.9"
  }
 },
 "nbformat": 4,
 "nbformat_minor": 5
}
