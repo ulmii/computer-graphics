{
 "cells": [
  {
   "cell_type": "code",
   "execution_count": 1,
   "id": "cfe8f252",
   "metadata": {},
   "outputs": [],
   "source": [
    "%matplotlib inline\n",
    "import re\n",
    "import cairo\n",
    "import cv2\n",
    "import matplotlib.pyplot as plt\n",
    "import numpy as np\n",
    "plt.rcParams[\"figure.figsize\"] = (20, 10)"
   ]
  },
  {
   "cell_type": "markdown",
   "id": "047aad74",
   "metadata": {},
   "source": [
    "Napisz program, który przy pomocy Cairo generuje plik z rysunkiem krzywej sklejanej Catmulla-Roma ze zduplikowanymi krańcowymi punktami kontrolnymi. Współrzędne punktów kontrolnych wczytywane są z pliku, w którym każda linia zawiera dwie liczby odpowiadające współrzędnym X i Y.\n",
    "\n",
    "Oprócz nazwy pliku z danymi programowi podaje się również nazwę pliku wynikowego. Jeśli jego rozszerzeniem jest .png, to program powinien wygenerować obrazek w tym formacie, mający 1024 kolumny i 768 wierszy. Dla rozszerzenia .pdf generowany plik powinien mieć wymiary 16 na 9 centymetrów. (Uprzedzając ewentualne pytanie: tak, obrazy 1024x768 i 16x9 mają inne proporcje, to nie jest pomyłka w treści zadania.) Dla innych rozszerzeń program powinien zgłosić błąd.\n",
    "\n",
    "Cairo nie ma funkcji służących do rysowania krzywych Hermite’a, ale ma funkcję do rysowania kubicznych krzywych Béziera. A ponieważ oba te typy krzywych to wielomianowe krzywe parametryczne trzeciego rzędu, to można dokonać konwersji, czyli dla danej krzywej wyliczyć opisujące ją współrzędne punktów kontrolnych Béziera na podstawie współrzędnych punktów i wektorów kontrolnych Hermite’a. Główna pętla programu powinna więc działać tak: wylicz punkty i wektory dla bieżącego segmentu krzywej sklejanej, skonwertuj, wywołaj funkcję curve_to, przejdź do następnego segmentu.\n",
    "\n",
    "Wczytywane z pliku współrzędne są bezwymiarowe i mogą przyjmować dowolne wartości. Oznacza to, że przed przystąpieniem do rysowania trzeba najpierw obliczyć przedziały, w których zawierają się iksy oraz igreki, a potem na tej podstawie wyliczyć odpowiednią transformację współrzędnych. Narysowana krzywa musi być w całości widoczna na obrazku. Po bokach należy pozostawić puste marginesy szerokości / wysokości co najmniej 1% szerokości / wysokości obrazka.\n",
    "\n",
    "Kod źródłowy programu musi być przejrzysty i zawierać komentarze wyjaśniające znaczenie wykonywanych obliczeń. Uwaga: jeśli w kodzie jest instrukcja x = 0.5 * x, to komentarz w stylu „mnożymy x przez 50%” zostanie przeze mnie uznany za bezużyteczny. Każdy programista to przecież widzi patrząc na instrukcję. To, co jest potrzebne, to komentarze wyjaśniające skąd się to 50% wzięło i co sobą reprezentuje."
   ]
  },
  {
   "cell_type": "code",
   "execution_count": 2,
   "id": "meaningful-breast",
   "metadata": {},
   "outputs": [],
   "source": [
    "def scale_points(width, height, points):\n",
    "    x_list = []\n",
    "    y_list = []\n",
    "\n",
    "    for x, y in points:\n",
    "        x_list.append(x)\n",
    "        y_list.append(y)\n",
    "\n",
    "    # skalowanie punktów do 90% obszaru obrazka (1024 x 768)\n",
    "    x_scaling = (width  / max(x_list)) * 0.9\n",
    "    y_scaling = (height / max(y_list)) * 0.9\n",
    "\n",
    "    return [(x * x_scaling, y * y_scaling) for x, y in points]"
   ]
  },
  {
   "cell_type": "code",
   "execution_count": 3,
   "id": "dirty-finland",
   "metadata": {},
   "outputs": [],
   "source": [
    "def draw_bezier(context, points):\n",
    "    ctx.set_source_rgb(0, 1, 0)\n",
    "    \n",
    "    # ustaw rysowanie na pierwszym punkcie\n",
    "    context.move_to(points[0][0] , points[0][1])\n",
    "    \n",
    "    # podziel tablice punktow na segmenty po 3 punkty\n",
    "    for chunk in np.array_split(points[1:], len(points) / 3): \n",
    "        ax = chunk[0][0] \n",
    "        ay = chunk[0][1]\n",
    "        bx = chunk[1][0]\n",
    "        by = chunk[1][1] \n",
    "        cx = chunk[2][0] \n",
    "        cy = chunk[2][1] \n",
    "\n",
    "        # pociagnij segment do punktu c z kontrolkami a i b\n",
    "        context.curve_to(ax, ay, bx, by, cx, cy) \n",
    "    # rysowanie\n",
    "    context.stroke() "
   ]
  },
  {
   "cell_type": "markdown",
   "id": "diverse-county",
   "metadata": {},
   "source": [
    "![Catmull rom points to bezier](https://i.imgur.com/7FIIZ82.png)"
   ]
  },
  {
   "cell_type": "code",
   "execution_count": 4,
   "id": "arranged-plaintiff",
   "metadata": {},
   "outputs": [],
   "source": [
    "def draw_catmull_rom(context, data_points, tension):\n",
    "    ctx.set_source_rgb(1, 0, 0)\n",
    "    \n",
    "    # ustaw pierwszy punkt\n",
    "    p0_x = data_points[0][0]\n",
    "    p0_y = data_points[0][1]\n",
    "    ctx.move_to(p0_x, p0_y)\n",
    "    \n",
    "    # Konwertowanie punktów catmulla rom na beziera. \n",
    "    # Od zakresu petli odejmujemy 3 poniewaz: \n",
    "    # 1: aby nie wykroczyc poza zakres len \n",
    "    # 2: za 2 dodane punkty boczne\n",
    "    for i in range(len(data_points) - 3):\n",
    "        p1_x = data_points[i + 1][0] + (data_points[i + 2][0] - data_points[i][0]) / (6 * tension)\n",
    "        p1_y = data_points[i + 1][1] + (data_points[i + 2][1] - data_points[i][1]) / (6 * tension)\n",
    "        p2_x = data_points[i + 2][0] - (data_points[i + 3][0] - data_points[i + 1][0]) / (6 * tension)\n",
    "        p2_y = data_points[i + 2][1] - (data_points[i + 3][1] - data_points[i + 1][1]) / (6 * tension)\n",
    "        p3_x = data_points[i + 2][0]\n",
    "        p3_y = data_points[i + 2][1]\n",
    "\n",
    "        context.curve_to(p1_x, p1_y, p2_x, p2_y, p3_x, p3_y)\n",
    "\n",
    "    context.stroke()"
   ]
  },
  {
   "cell_type": "code",
   "execution_count": 5,
   "id": "hired-tunnel",
   "metadata": {},
   "outputs": [],
   "source": [
    "def prepare_catmull_points(points):\n",
    "    bezierPoints = points.copy()\n",
    "    \n",
    "    # kopiujemy pierwszy i ostatni punkty kontrolny, aby skleic splajn od pierwszego do ostatniego punktu\n",
    "    bezierPoints.insert(0, points[0])\n",
    "    bezierPoints.append(points[-1])\n",
    "    \n",
    "    return bezierPoints"
   ]
  },
  {
   "cell_type": "code",
   "execution_count": 6,
   "id": "determined-brunei",
   "metadata": {},
   "outputs": [],
   "source": [
    "def load_points_from_file(filename):\n",
    "    data_file_pattern = re.compile(r'(\\d+) (\\d+)$')\n",
    "    points = []\n",
    "    with open('points.txt','r') as f:\n",
    "        while True:\n",
    "            line = f.readline()\n",
    "\n",
    "            match = data_file_pattern.match(line)\n",
    "            if match is None:\n",
    "                break\n",
    "\n",
    "            (x, y) = map(int, match.groups())\n",
    "            points.append((x, y))\n",
    "            \n",
    "    if len(points) < 2:\n",
    "        raise ValueError(\"At least 2 points must be specified\")\n",
    "        \n",
    "    return points"
   ]
  },
  {
   "cell_type": "code",
   "execution_count": 7,
   "id": "prompt-examination",
   "metadata": {},
   "outputs": [
    {
     "data": {
      "text/plain": [
       "<matplotlib.image.AxesImage at 0x17b8b0d70a0>"
      ]
     },
     "execution_count": 7,
     "metadata": {},
     "output_type": "execute_result"
    },
    {
     "data": {
      "image/png": "[encoded data removed]",
      "text/plain": [
       "<Figure size 1440x720 with 1 Axes>"
      ]
     },
     "metadata": {
      "needs_background": "light"
     },
     "output_type": "display_data"
    }
   ],
   "source": [
    "width = 1024\n",
    "height = 768\n",
    "\n",
    "surf = cairo.SVGSurface(\"wynik.svg\", width, height)\n",
    "ctx = cairo.Context(surf)\n",
    "ctx.set_line_width(2)\n",
    "\n",
    "points = load_points_from_file('points.txt')    \n",
    "points_scaled = scale_points(width, height, points)\n",
    "\n",
    "# Rysowanie punktów na obrazku\n",
    "ctx.set_source_rgb(0.5, 0.5, 0)\n",
    "for x, y in points_scaled:\n",
    "    ctx.arc(x , y, 8, 0.0, 6.283)    # ciut mniej niż 2π\n",
    "    ctx.close_path()\n",
    "    ctx.stroke()\n",
    "\n",
    "# Do beziera potrzebujemy minimum 4 punktów. Gdy punktów jest wiecej niz 4, \n",
    "# odejmujemy 1 (pierwszy punkt ktory ustawiamy) oraz sprawdzamy czy jest wielokrotnoscia 3:\n",
    "# (2 punkty kontrolne oraz 1 do którego dobiegamy)\n",
    "if len(points) >= 4 and (len(points) - 1) % 3 == 0:\n",
    "    draw_bezier(ctx, points_scaled)\n",
    "\n",
    "catmull_points = prepare_catmull_points(points_scaled)\n",
    "draw_catmull_rom(ctx, catmull_points, 1.0)\n",
    "\n",
    "surf.write_to_png(\"wynik.png\")\n",
    "img = cv2.imread(\"wynik.png\")\n",
    "plt.imshow(cv2.cvtColor(img, cv2.COLOR_BGR2RGB))"
   ]
  }
 ],
 "metadata": {
  "kernelspec": {
   "display_name": "Python 3",
   "language": "python",
   "name": "python3"
  },
  "language_info": {
   "codemirror_mode": {
    "name": "ipython",
    "version": 3
   },
   "file_extension": ".py",
   "mimetype": "text/x-python",
   "name": "python",
   "nbconvert_exporter": "python",
   "pygments_lexer": "ipython3",
   "version": "3.8.8"
  }
 },
 "nbformat": 4,
 "nbformat_minor": 5
}
